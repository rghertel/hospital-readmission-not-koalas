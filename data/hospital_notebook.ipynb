{
 "cells": [
  {
   "cell_type": "code",
   "execution_count": 2,
   "id": "5adb0ccb",
   "metadata": {},
   "outputs": [],
   "source": [
    "import pandas as pd\n",
    "import numpy as np\n",
    "import matplotlib.pyplot as plt\n",
    "import matplotlib.dates as mdates\n",
    "import datetime as dt\n",
    "import json\n",
    "import seaborn as sns\n",
    "import re\n",
    "from datetime import timedelta\n",
    "\n",
    "%matplotlib inline"
   ]
  },
  {
   "cell_type": "code",
   "execution_count": 3,
   "id": "01b0675b",
   "metadata": {},
   "outputs": [],
   "source": [
    "#importing all tables from data folder\n",
    "members = pd.read_csv('NSS_GreatCare_Members.csv')\n",
    "admissions = pd.read_csv('NSS_Hospital_Inpatient_Admissions.csv')\n",
    "pcp = pd.read_csv('NSS_PrimaryCare_Office_Visits.csv', low_memory = False)"
   ]
  },
  {
   "cell_type": "markdown",
   "id": "9ca7be29",
   "metadata": {},
   "source": [
    "2. What percent of patients have a PCP visit within a week of discharge?"
   ]
  },
  {
   "cell_type": "code",
   "execution_count": 4,
   "id": "707b9cba",
   "metadata": {},
   "outputs": [
    {
     "data": {
      "text/html": [
       "<div>\n",
       "<style scoped>\n",
       "    .dataframe tbody tr th:only-of-type {\n",
       "        vertical-align: middle;\n",
       "    }\n",
       "\n",
       "    .dataframe tbody tr th {\n",
       "        vertical-align: top;\n",
       "    }\n",
       "\n",
       "    .dataframe thead th {\n",
       "        text-align: right;\n",
       "    }\n",
       "</style>\n",
       "<table border=\"1\" class=\"dataframe\">\n",
       "  <thead>\n",
       "    <tr style=\"text-align: right;\">\n",
       "      <th></th>\n",
       "      <th>Encounter ID_x</th>\n",
       "      <th>Patient ID</th>\n",
       "      <th>Encounter Start Date</th>\n",
       "      <th>Encounter End Date</th>\n",
       "      <th>Encounter ID_y</th>\n",
       "      <th>Encounter Date</th>\n",
       "      <th>7_days</th>\n",
       "    </tr>\n",
       "  </thead>\n",
       "  <tbody>\n",
       "    <tr>\n",
       "      <th>0</th>\n",
       "      <td>HIA|DS1|10033|DS1|NPI|1306890389|1</td>\n",
       "      <td>DS1|10033</td>\n",
       "      <td>2013-01-12</td>\n",
       "      <td>2013-01-14</td>\n",
       "      <td>COV|PBSL|DS1|10033|P|1228384|1043427248|1|SHIFTED</td>\n",
       "      <td>2015-12-08</td>\n",
       "      <td>1058 days</td>\n",
       "    </tr>\n",
       "    <tr>\n",
       "      <th>1</th>\n",
       "      <td>HIA|DS1|10033|DS1|NPI|1306890389|1</td>\n",
       "      <td>DS1|10033</td>\n",
       "      <td>2013-01-12</td>\n",
       "      <td>2013-01-14</td>\n",
       "      <td>COV|PBSL|DS1|10033|P|1326684|1043427248|1|SHIFTED</td>\n",
       "      <td>2012-06-18</td>\n",
       "      <td>-210 days</td>\n",
       "    </tr>\n",
       "    <tr>\n",
       "      <th>2</th>\n",
       "      <td>HIA|DS1|10033|DS1|NPI|1306890389|1</td>\n",
       "      <td>DS1|10033</td>\n",
       "      <td>2013-01-12</td>\n",
       "      <td>2013-01-14</td>\n",
       "      <td>COV|PBSL|DS1|10033|P|155317|1043427248|1|SHIFTED</td>\n",
       "      <td>2014-06-10</td>\n",
       "      <td>512 days</td>\n",
       "    </tr>\n",
       "    <tr>\n",
       "      <th>3</th>\n",
       "      <td>HIA|DS1|10033|DS1|NPI|1306890389|1</td>\n",
       "      <td>DS1|10033</td>\n",
       "      <td>2013-01-12</td>\n",
       "      <td>2013-01-14</td>\n",
       "      <td>COV|PBSL|DS1|10033|P|439093|1043427248|1|SHIFTED</td>\n",
       "      <td>2014-09-28</td>\n",
       "      <td>622 days</td>\n",
       "    </tr>\n",
       "    <tr>\n",
       "      <th>4</th>\n",
       "      <td>HIA|DS1|10033|DS1|NPI|1306890389|1</td>\n",
       "      <td>DS1|10033</td>\n",
       "      <td>2013-01-12</td>\n",
       "      <td>2013-01-14</td>\n",
       "      <td>COV|PBSL|DS1|10033|P|711310|1043427248|1|SHIFTED</td>\n",
       "      <td>2014-03-16</td>\n",
       "      <td>426 days</td>\n",
       "    </tr>\n",
       "    <tr>\n",
       "      <th>...</th>\n",
       "      <td>...</td>\n",
       "      <td>...</td>\n",
       "      <td>...</td>\n",
       "      <td>...</td>\n",
       "      <td>...</td>\n",
       "      <td>...</td>\n",
       "      <td>...</td>\n",
       "    </tr>\n",
       "    <tr>\n",
       "      <th>44093</th>\n",
       "      <td>HIA|DS1|9994|DS1|NPI|1689608150|2</td>\n",
       "      <td>DS1|9994</td>\n",
       "      <td>2015-11-24</td>\n",
       "      <td>2015-11-27</td>\n",
       "      <td>COV|PCSL|DS1|9994|P|1238517|1407058787|2</td>\n",
       "      <td>2015-12-05</td>\n",
       "      <td>8 days</td>\n",
       "    </tr>\n",
       "    <tr>\n",
       "      <th>44094</th>\n",
       "      <td>HIA|DS1|9994|DS1|NPI|1689608150|2</td>\n",
       "      <td>DS1|9994</td>\n",
       "      <td>2015-11-24</td>\n",
       "      <td>2015-11-27</td>\n",
       "      <td>COV|PCSL|DS1|9994|P|302749|1407058787|2</td>\n",
       "      <td>2015-12-13</td>\n",
       "      <td>16 days</td>\n",
       "    </tr>\n",
       "    <tr>\n",
       "      <th>44095</th>\n",
       "      <td>HIA|DS1|9994|DS1|NPI|1689608150|2</td>\n",
       "      <td>DS1|9994</td>\n",
       "      <td>2015-11-24</td>\n",
       "      <td>2015-11-27</td>\n",
       "      <td>COV|PCSL|DS1|9994|P|781849|1205884392|1</td>\n",
       "      <td>2014-05-18</td>\n",
       "      <td>-558 days</td>\n",
       "    </tr>\n",
       "    <tr>\n",
       "      <th>44096</th>\n",
       "      <td>HIA|DS1|9994|DS1|NPI|1689608150|2</td>\n",
       "      <td>DS1|9994</td>\n",
       "      <td>2015-11-24</td>\n",
       "      <td>2015-11-27</td>\n",
       "      <td>COV|PCSL|DS1|9994|P|93182|1043427248|1</td>\n",
       "      <td>2013-07-20</td>\n",
       "      <td>-860 days</td>\n",
       "    </tr>\n",
       "    <tr>\n",
       "      <th>44097</th>\n",
       "      <td>HIA|DS1|9996|DS1|NPI|1033298617|1</td>\n",
       "      <td>DS1|9996</td>\n",
       "      <td>2010-03-28</td>\n",
       "      <td>2010-03-31</td>\n",
       "      <td>NaN</td>\n",
       "      <td>NaT</td>\n",
       "      <td>NaT</td>\n",
       "    </tr>\n",
       "  </tbody>\n",
       "</table>\n",
       "<p>44098 rows × 7 columns</p>\n",
       "</div>"
      ],
      "text/plain": [
       "                           Encounter ID_x Patient ID Encounter Start Date  \\\n",
       "0      HIA|DS1|10033|DS1|NPI|1306890389|1  DS1|10033           2013-01-12   \n",
       "1      HIA|DS1|10033|DS1|NPI|1306890389|1  DS1|10033           2013-01-12   \n",
       "2      HIA|DS1|10033|DS1|NPI|1306890389|1  DS1|10033           2013-01-12   \n",
       "3      HIA|DS1|10033|DS1|NPI|1306890389|1  DS1|10033           2013-01-12   \n",
       "4      HIA|DS1|10033|DS1|NPI|1306890389|1  DS1|10033           2013-01-12   \n",
       "...                                   ...        ...                  ...   \n",
       "44093   HIA|DS1|9994|DS1|NPI|1689608150|2   DS1|9994           2015-11-24   \n",
       "44094   HIA|DS1|9994|DS1|NPI|1689608150|2   DS1|9994           2015-11-24   \n",
       "44095   HIA|DS1|9994|DS1|NPI|1689608150|2   DS1|9994           2015-11-24   \n",
       "44096   HIA|DS1|9994|DS1|NPI|1689608150|2   DS1|9994           2015-11-24   \n",
       "44097   HIA|DS1|9996|DS1|NPI|1033298617|1   DS1|9996           2010-03-28   \n",
       "\n",
       "      Encounter End Date                                     Encounter ID_y  \\\n",
       "0             2013-01-14  COV|PBSL|DS1|10033|P|1228384|1043427248|1|SHIFTED   \n",
       "1             2013-01-14  COV|PBSL|DS1|10033|P|1326684|1043427248|1|SHIFTED   \n",
       "2             2013-01-14   COV|PBSL|DS1|10033|P|155317|1043427248|1|SHIFTED   \n",
       "3             2013-01-14   COV|PBSL|DS1|10033|P|439093|1043427248|1|SHIFTED   \n",
       "4             2013-01-14   COV|PBSL|DS1|10033|P|711310|1043427248|1|SHIFTED   \n",
       "...                  ...                                                ...   \n",
       "44093         2015-11-27           COV|PCSL|DS1|9994|P|1238517|1407058787|2   \n",
       "44094         2015-11-27            COV|PCSL|DS1|9994|P|302749|1407058787|2   \n",
       "44095         2015-11-27            COV|PCSL|DS1|9994|P|781849|1205884392|1   \n",
       "44096         2015-11-27             COV|PCSL|DS1|9994|P|93182|1043427248|1   \n",
       "44097         2010-03-31                                                NaN   \n",
       "\n",
       "      Encounter Date    7_days  \n",
       "0         2015-12-08 1058 days  \n",
       "1         2012-06-18 -210 days  \n",
       "2         2014-06-10  512 days  \n",
       "3         2014-09-28  622 days  \n",
       "4         2014-03-16  426 days  \n",
       "...              ...       ...  \n",
       "44093     2015-12-05    8 days  \n",
       "44094     2015-12-13   16 days  \n",
       "44095     2014-05-18 -558 days  \n",
       "44096     2013-07-20 -860 days  \n",
       "44097            NaT       NaT  \n",
       "\n",
       "[44098 rows x 7 columns]"
      ]
     },
     "execution_count": 4,
     "metadata": {},
     "output_type": "execute_result"
    }
   ],
   "source": [
    "#converting admissions dates to datetime for calculations\n",
    "admissions[['Encounter Start Date','Encounter End Date']] = admissions[['Encounter Start Date','Encounter End Date']].apply(pd.to_datetime)\n",
    "\n",
    "#converting pcp dates to datetime for calculations\n",
    "pcp['Encounter Date'] = pd.to_datetime(pcp['Encounter Date'])\n",
    "\n",
    "#selecting relevant columns from each data frame, then joining hospital admissions to pcp care\n",
    "a_df = admissions[['Encounter ID', \"Patient ID\", 'Encounter Start Date', \"Encounter End Date\"]]\n",
    "pcp_df = pcp[['Encounter ID', 'Patient ID', 'Encounter Date']]\n",
    "\n",
    "#merging relevant admissions info to relevant pcp visits\n",
    "adpcp_df = a_df.merge(pcp_df, how='left', on='Patient ID')\n",
    "\n",
    "#creating new column for 7 days, to find out which patients had a PCP visit after a week from discharge\n",
    "adpcp_df['7_days'] = adpcp_df['Encounter Date'] - adpcp_df['Encounter End Date']\n",
    "adpcp_df"
   ]
  },
  {
   "cell_type": "code",
   "execution_count": 5,
   "id": "731c3ca5",
   "metadata": {},
   "outputs": [],
   "source": [
    "patients7 = []\n",
    "\n",
    "for i in adpcp_df['7_days']:\n",
    "    if (i <= dt.timedelta(days=7)) and (i > dt.timedelta(days=0)) :\n",
    "        patients7.append('yes')\n",
    "    else:\n",
    "        patients7.append('no')"
   ]
  },
  {
   "cell_type": "code",
   "execution_count": 6,
   "id": "216eb607",
   "metadata": {},
   "outputs": [],
   "source": [
    "adpcp_df['7_days'] = patients7"
   ]
  },
  {
   "cell_type": "code",
   "execution_count": 7,
   "id": "d3a64611",
   "metadata": {},
   "outputs": [
    {
     "data": {
      "text/plain": [
       "no     41736\n",
       "yes     2362\n",
       "Name: 7_days, dtype: int64"
      ]
     },
     "execution_count": 7,
     "metadata": {},
     "output_type": "execute_result"
    }
   ],
   "source": [
    "adpcp_df['7_days'].value_counts()"
   ]
  },
  {
   "cell_type": "markdown",
   "id": "075c91f6",
   "metadata": {},
   "source": [
    "BONUS 5\n",
    "Which individual or PCP groups should we make an extra effort with to build a relationship? Which have the highest volume?"
   ]
  },
  {
   "cell_type": "code",
   "execution_count": 95,
   "id": "47ef0184",
   "metadata": {},
   "outputs": [
    {
     "name": "stderr",
     "output_type": "stream",
     "text": [
      "<ipython-input-95-36e80204f589>:4: SettingWithCopyWarning: \n",
      "A value is trying to be set on a copy of a slice from a DataFrame.\n",
      "Try using .loc[row_indexer,col_indexer] = value instead\n",
      "\n",
      "See the caveats in the documentation: https://pandas.pydata.org/pandas-docs/stable/user_guide/indexing.html#returning-a-view-versus-a-copy\n",
      "  b1['Provider Group NPI'] = b1['Provider Group NPI'].astype('object')\n"
     ]
    },
    {
     "data": {
      "text/plain": [
       "1.043427e+09    114849\n",
       "1.184723e+09     44030\n",
       "1.164513e+09     18096\n",
       "1.407059e+09     12041\n",
       "1.316025e+09      8686\n",
       "                 ...  \n",
       "1.962566e+09         1\n",
       "1.083750e+09         1\n",
       "1.639473e+09         1\n",
       "1.528052e+09         1\n",
       "1.699021e+09         1\n",
       "Name: Provider Group NPI, Length: 380, dtype: int64"
      ]
     },
     "execution_count": 95,
     "metadata": {},
     "output_type": "execute_result"
    }
   ],
   "source": [
    "#finding Provier Group NPI's and counting should provide which facility saw the most patients?? \n",
    "#rationale here is that Encounter ID's are unique, so each duplicated NPI should be 1 visit?? \n",
    "b1 = pcp[['Encounter ID', 'Provider Group NPI', 'Encounter Date']]\n",
    "b1['Provider Group NPI'] = b1['Provider Group NPI'].astype('object')\n",
    "b1['Provider Group NPI'].value_counts()\n",
    "\n",
    "#make this cleaner somehow to see full PGNPI number"
   ]
  },
  {
   "cell_type": "markdown",
   "id": "4ff40e2e",
   "metadata": {},
   "source": [
    "BONUS 5. \n",
    "What percent of our patients do not have a PCP assigned or haven't seen their PCP recently?"
   ]
  },
  {
   "cell_type": "code",
   "execution_count": 82,
   "id": "05fe1250",
   "metadata": {},
   "outputs": [
    {
     "name": "stderr",
     "output_type": "stream",
     "text": [
      "<ipython-input-82-20e96d26865f>:2: SettingWithCopyWarning: \n",
      "A value is trying to be set on a copy of a slice from a DataFrame.\n",
      "Try using .loc[row_indexer,col_indexer] = value instead\n",
      "\n",
      "See the caveats in the documentation: https://pandas.pydata.org/pandas-docs/stable/user_guide/indexing.html#returning-a-view-versus-a-copy\n",
      "  b1['Provider Group NPI'] = b1['Provider Group NPI'].fillna('no pcp')\n"
     ]
    }
   ],
   "source": [
    "#adding searchable text 'no pcp' to replace blank values in the Provider Group NPI column\n",
    "b1['Provider Group NPI'] = b1['Provider Group NPI'].fillna('no pcp')\n",
    "\n",
    "#trying to find how many patients do not have a PCP .. \n",
    "no_pcp = []\n",
    "for index, row in b1.iterrows():\n",
    "    if row['Provider Group NPI'] == 'no pcp':\n",
    "        no_pcp.append('No PCP')\n",
    "    else:\n",
    "        no_pcp.append('Has PCP')"
   ]
  },
  {
   "cell_type": "code",
   "execution_count": 170,
   "id": "b2492d68",
   "metadata": {
    "scrolled": true
   },
   "outputs": [
    {
     "data": {
      "text/plain": [
       "PCP Y/N\n",
       "Has PCP    227644\n",
       "No PCP       3729\n",
       "dtype: int64"
      ]
     },
     "execution_count": 170,
     "metadata": {},
     "output_type": "execute_result"
    }
   ],
   "source": [
    "#3,729 patients do not have a PCP.. drop duplicates because each unique patient id was counted for every itterow calculation?\n",
    "# seems really low if dupes are dropped.. .\n",
    "yn = pd.DataFrame(no_pcp)\n",
    "yn = yn.rename(columns={yn.columns[0]: 'PCP Y/N'})\n",
    "yn.value_counts()\n",
    "#yn.drop_duplicates()\n",
    "#yn"
   ]
  },
  {
   "cell_type": "code",
   "execution_count": null,
   "id": "cd1b8379",
   "metadata": {},
   "outputs": [],
   "source": []
  }
 ],
 "metadata": {
  "kernelspec": {
   "display_name": "Python 3",
   "language": "python",
   "name": "python3"
  },
  "language_info": {
   "codemirror_mode": {
    "name": "ipython",
    "version": 3
   },
   "file_extension": ".py",
   "mimetype": "text/x-python",
   "name": "python",
   "nbconvert_exporter": "python",
   "pygments_lexer": "ipython3",
   "version": "3.8.8"
  }
 },
 "nbformat": 4,
 "nbformat_minor": 5
}
